{
 "cells": [
  {
   "cell_type": "markdown",
   "metadata": {},
   "source": [
    "### Distance Metrics for Probability Distributions\n",
    "\n",
    "We'll be looking at 3 different distance metrics, and see how different probability distributions look with them.\n",
    "\n",
    "### Creating probability distributions"
   ]
  },
  {
   "cell_type": "code",
   "execution_count": null,
   "metadata": {
    "collapsed": true
   },
   "outputs": [],
   "source": [
    "import pymc3 as pm\n",
    "import numpy as np"
   ]
  },
  {
   "cell_type": "code",
   "execution_count": null,
   "metadata": {
    "collapsed": false
   },
   "outputs": [],
   "source": [
    "dist_1 = np.random.uniform(low=0, high=5, size=1000)\n",
    "dist_2 = np.random.uniform()"
   ]
  },
  {
   "cell_type": "markdown",
   "metadata": {},
   "source": [
    "### Create Models"
   ]
  },
  {
   "cell_type": "code",
   "execution_count": null,
   "metadata": {
    "collapsed": true
   },
   "outputs": [],
   "source": []
  },
  {
   "cell_type": "markdown",
   "metadata": {},
   "source": [
    "### Creating Manifolds\n",
    "\n",
    "Torus. Sphere?"
   ]
  },
  {
   "cell_type": "code",
   "execution_count": null,
   "metadata": {
    "collapsed": true
   },
   "outputs": [],
   "source": []
  },
  {
   "cell_type": "markdown",
   "metadata": {},
   "source": [
    "### Kullback–Leibler divergence"
   ]
  },
  {
   "cell_type": "code",
   "execution_count": null,
   "metadata": {
    "collapsed": true
   },
   "outputs": [],
   "source": [
    "def KLdivergence(dist_1, dist_2):\n",
    "    distance = np.sum(dist_1 * np.log(dist_1 / dist_2))\n",
    "    return distance"
   ]
  },
  {
   "cell_type": "markdown",
   "metadata": {},
   "source": [
    "### Hellinger Distance"
   ]
  },
  {
   "cell_type": "code",
   "execution_count": null,
   "metadata": {
    "collapsed": true
   },
   "outputs": [],
   "source": [
    "def hellinger(dist_1, dist_2):\n",
    "    distance = np.sqrt(0.5 * ((np.sqrt(dist_1) - np.sqrt(dist_2))**2).sum())\n",
    "    return distance"
   ]
  },
  {
   "cell_type": "markdown",
   "metadata": {},
   "source": [
    "### Fischer-Rao Metric\n",
    "\n",
    "The Fischer-Rao metric is a particular Riemannian metric. We normally have a statistical manifold with coordinates at each point; in this small snippet we will make do with pseudo code."
   ]
  },
  {
   "cell_type": "code",
   "execution_count": null,
   "metadata": {
    "collapsed": true
   },
   "outputs": [],
   "source": [
    "def fischer_rao(distribution, coordinate_1, coordinate_2):\n",
    "    distance = np.sum(np.log(distribution(coordinate_1)) * np.log(distribution(coordinate_2))*distribution)\n",
    "    return distance"
   ]
  },
  {
   "cell_type": "markdown",
   "metadata": {},
   "source": [
    "### SoftAbs Metric\n",
    "\n",
    "The SoftAbs metric is based on an exponential map.\n",
    "We need to compute the gradient of the quadratic form, and the log determinant. \n",
    "Here p is the momenta and pi(q) is the N-dimensional Target density.\n",
    "\n",
    "H = Q . $lambda$ . $Q^T$\n",
    "\n",
    "$lambda$ = Diag($lambda_{i}$)\n",
    "\n",
    "Lambda is the diagonal matrix of eigenvalues and Q is the corresponding matrix of eigenvectors. "
   ]
  },
  {
   "cell_type": "code",
   "execution_count": null,
   "metadata": {
    "collapsed": false
   },
   "outputs": [],
   "source": [
    "def grad_quad(H_ij, p):\n",
    "    Q, lambda_i = decompose(H_ij)\n",
    "    D = diag(Q_t . p / (lambda_i . coth(alpha . lambda_i))\n",
    "    J = d(lambda_i . coth(alpha . lambda_i))\n",
    "    grad = - Trace(Q . D . J . D . Q_t . d(H))\n",
    "    return grad"
   ]
  },
  {
   "cell_type": "code",
   "execution_count": null,
   "metadata": {
    "collapsed": true
   },
   "outputs": [],
   "source": [
    "def grad_log(H_ij):\n",
    "    Q, lambda_i = decompose(H_ij)\n",
    "    J = d(lambda_i . coth(alpha . lambda_i))\n",
    "    R = diag(1 / lambda_i . coth(alpha . lambda_i)\n",
    "    grad = Trace(Q . (R ◦ J). Q_t . dH)\n",
    "    return grad"
   ]
  }
 ],
 "metadata": {
  "kernelspec": {
   "display_name": "Python 2",
   "language": "python",
   "name": "python2"
  },
  "language_info": {
   "codemirror_mode": {
    "name": "ipython",
    "version": 2
   },
   "file_extension": ".py",
   "mimetype": "text/x-python",
   "name": "python",
   "nbconvert_exporter": "python",
   "pygments_lexer": "ipython2",
   "version": "2.7.12"
  }
 },
 "nbformat": 4,
 "nbformat_minor": 0
}
